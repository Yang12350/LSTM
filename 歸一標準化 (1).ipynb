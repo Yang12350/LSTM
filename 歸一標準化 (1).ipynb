{
 "cells": [
  {
   "cell_type": "code",
   "execution_count": 1,
   "metadata": {},
   "outputs": [
    {
     "name": "stderr",
     "output_type": "stream",
     "text": [
      "Using TensorFlow backend.\n"
     ]
    }
   ],
   "source": [
    "import numpy as np\n",
    "import matplotlib.pyplot as plt\n",
    "import pandas as pd\n",
    "from pandas import datetime\n",
    "import math, time\n",
    "import itertools\n",
    "from sklearn import preprocessing\n",
    "import datetime\n",
    "from sklearn.metrics import mean_squared_error\n",
    "from math import sqrt\n",
    "from keras.models import Sequential\n",
    "from keras.layers.core import Dense, Dropout, Activation\n",
    "from keras.layers.recurrent import LSTM\n",
    "from keras.models import load_model\n",
    "import keras\n",
    "import h5py\n",
    "from keras.callbacks import EarlyStopping, ModelCheckpoint"
   ]
  },
  {
   "cell_type": "code",
   "execution_count": 112,
   "metadata": {},
   "outputs": [
    {
     "name": "stdout",
     "output_type": "stream",
     "text": [
      "Requirement already satisfied: keras in d:\\anaconda\\lib\\site-packages (2.3.1)\n",
      "Requirement already satisfied: scipy>=0.14 in d:\\anaconda\\lib\\site-packages (from keras) (1.3.1)\n",
      "Requirement already satisfied: pyyaml in d:\\anaconda\\lib\\site-packages (from keras) (5.1.2)\n",
      "Requirement already satisfied: h5py in d:\\anaconda\\lib\\site-packages (from keras) (2.9.0)\n",
      "Requirement already satisfied: numpy>=1.9.1 in d:\\anaconda\\lib\\site-packages (from keras) (1.16.5)\n",
      "Requirement already satisfied: keras-preprocessing>=1.0.5 in d:\\anaconda\\lib\\site-packages (from keras) (1.1.0)\n",
      "Requirement already satisfied: six>=1.9.0 in d:\\anaconda\\lib\\site-packages (from keras) (1.12.0)\n",
      "Requirement already satisfied: keras-applications>=1.0.6 in d:\\anaconda\\lib\\site-packages (from keras) (1.0.8)\n",
      "Note: you may need to restart the kernel to use updated packages.\n"
     ]
    }
   ],
   "source": [
    "pip install keras"
   ]
  },
  {
   "cell_type": "code",
   "execution_count": 19,
   "metadata": {},
   "outputs": [],
   "source": [
    "df = pd.read_excel(\"空氣品質.xlsx\")     "
   ]
  },
  {
   "cell_type": "code",
   "execution_count": 2,
   "metadata": {},
   "outputs": [],
   "source": [
    "stock_name = '^GSPC'\n",
    "seq_len = 22\n",
    "d = 0.2\n",
    "shape = [4, seq_len, 1] # feature, window, output\n",
    "neurons = [128, 128, 32, 1]\n",
    "epochs = 300"
   ]
  },
  {
   "cell_type": "code",
   "execution_count": 104,
   "metadata": {},
   "outputs": [],
   "source": [
    "def get_df_data(stock_name, normalize=True):\n",
    "    #df.drop(['Volume', 'Close'], 1, inplace=True)\n",
    "    \n",
    "    if normalize:        \n",
    "        min_max_scaler = preprocessing.MinMaxScaler()\n",
    "        df['總站日數'] = min_max_scaler.fit_transform(df.總站日數.values.reshape(-1,1))\n",
    "        df['良好站日數'] = min_max_scaler.fit_transform(df.良好站日數.values.reshape(-1,1))\n",
    "        df['普通站日數'] = min_max_scaler.fit_transform(df.普通站日數.values.reshape(-1,1))\n",
    "        df['對敏感族群不健康站日數'] = min_max_scaler.fit_transform(df.對敏感族群不健康站日數.values.reshape(-1,1))\n",
    "        df['對所有族群不健康站日數'] = min_max_scaler.fit_transform(df.對所有族群不健康站日數.values.reshape(-1,1))\n",
    "        df['非常不健康站日數'] = min_max_scaler.fit_transform(df.非常不健康站日數.values.reshape(-1,1))\n",
    "        df['危害站日數'] = min_max_scaler.fit_transform(df.危害站日數.values.reshape(-1,1))\n",
    "        df['AQI大於100日數比率'] = min_max_scaler.fit_transform(df.AQI大於100日數比率.values.reshape(-1,1))\n",
    "    return df\n",
    "\n",
    "df = get_df_data(stock_name, normalize=True)"
   ]
  },
  {
   "cell_type": "code",
   "execution_count": 21,
   "metadata": {},
   "outputs": [
    {
     "data": {
      "text/html": [
       "<div>\n",
       "<style scoped>\n",
       "    .dataframe tbody tr th:only-of-type {\n",
       "        vertical-align: middle;\n",
       "    }\n",
       "\n",
       "    .dataframe tbody tr th {\n",
       "        vertical-align: top;\n",
       "    }\n",
       "\n",
       "    .dataframe thead th {\n",
       "        text-align: right;\n",
       "    }\n",
       "</style>\n",
       "<table border=\"1\" class=\"dataframe\">\n",
       "  <thead>\n",
       "    <tr style=\"text-align: right;\">\n",
       "      <th></th>\n",
       "      <th>統計期</th>\n",
       "      <th>統計區</th>\n",
       "      <th>總站日數</th>\n",
       "      <th>良好站日數</th>\n",
       "      <th>普通站日數</th>\n",
       "      <th>對敏感族群不健康站日數</th>\n",
       "      <th>對所有族群不健康站日數</th>\n",
       "      <th>非常不健康站日數</th>\n",
       "      <th>危害站日數</th>\n",
       "      <th>AQI大於100日數比率</th>\n",
       "    </tr>\n",
       "  </thead>\n",
       "  <tbody>\n",
       "    <tr>\n",
       "      <td>0</td>\n",
       "      <td>108年 7月</td>\n",
       "      <td>連江縣</td>\n",
       "      <td>0.001638</td>\n",
       "      <td>0.016181</td>\n",
       "      <td>0.005484</td>\n",
       "      <td>0.000000</td>\n",
       "      <td>0.0</td>\n",
       "      <td>0.0</td>\n",
       "      <td>0.0</td>\n",
       "      <td>0.000000</td>\n",
       "    </tr>\n",
       "    <tr>\n",
       "      <td>1</td>\n",
       "      <td>108年 7月</td>\n",
       "      <td>金門縣</td>\n",
       "      <td>0.001638</td>\n",
       "      <td>0.014887</td>\n",
       "      <td>0.007313</td>\n",
       "      <td>0.000000</td>\n",
       "      <td>0.0</td>\n",
       "      <td>0.0</td>\n",
       "      <td>0.0</td>\n",
       "      <td>0.000000</td>\n",
       "    </tr>\n",
       "    <tr>\n",
       "      <td>2</td>\n",
       "      <td>108年 7月</td>\n",
       "      <td>嘉義市</td>\n",
       "      <td>0.001638</td>\n",
       "      <td>0.018123</td>\n",
       "      <td>0.001828</td>\n",
       "      <td>0.001852</td>\n",
       "      <td>0.0</td>\n",
       "      <td>0.0</td>\n",
       "      <td>0.0</td>\n",
       "      <td>0.043537</td>\n",
       "    </tr>\n",
       "    <tr>\n",
       "      <td>3</td>\n",
       "      <td>108年 7月</td>\n",
       "      <td>新竹市</td>\n",
       "      <td>0.001638</td>\n",
       "      <td>0.018770</td>\n",
       "      <td>0.001828</td>\n",
       "      <td>0.000000</td>\n",
       "      <td>0.0</td>\n",
       "      <td>0.0</td>\n",
       "      <td>0.0</td>\n",
       "      <td>0.000000</td>\n",
       "    </tr>\n",
       "    <tr>\n",
       "      <td>4</td>\n",
       "      <td>108年 7月</td>\n",
       "      <td>基隆市</td>\n",
       "      <td>0.001638</td>\n",
       "      <td>0.019417</td>\n",
       "      <td>0.000914</td>\n",
       "      <td>0.000000</td>\n",
       "      <td>0.0</td>\n",
       "      <td>0.0</td>\n",
       "      <td>0.0</td>\n",
       "      <td>0.000000</td>\n",
       "    </tr>\n",
       "  </tbody>\n",
       "</table>\n",
       "</div>"
      ],
      "text/plain": [
       "       統計期  統計區      總站日數     良好站日數     普通站日數  對敏感族群不健康站日數  對所有族群不健康站日數  \\\n",
       "0  108年 7月  連江縣  0.001638  0.016181  0.005484     0.000000          0.0   \n",
       "1  108年 7月  金門縣  0.001638  0.014887  0.007313     0.000000          0.0   \n",
       "2  108年 7月  嘉義市  0.001638  0.018123  0.001828     0.001852          0.0   \n",
       "3  108年 7月  新竹市  0.001638  0.018770  0.001828     0.000000          0.0   \n",
       "4  108年 7月  基隆市  0.001638  0.019417  0.000914     0.000000          0.0   \n",
       "\n",
       "   非常不健康站日數  危害站日數  AQI大於100日數比率  \n",
       "0       0.0    0.0      0.000000  \n",
       "1       0.0    0.0      0.000000  \n",
       "2       0.0    0.0      0.043537  \n",
       "3       0.0    0.0      0.000000  \n",
       "4       0.0    0.0      0.000000  "
      ]
     },
     "execution_count": 21,
     "metadata": {},
     "output_type": "execute_result"
    }
   ],
   "source": [
    "df.head()"
   ]
  },
  {
   "cell_type": "code",
   "execution_count": 124,
   "metadata": {},
   "outputs": [
    {
     "data": {
      "image/png": "[encoded data removed]",
      "text/plain": [
       "<Figure size 720x720 with 1 Axes>"
      ]
     },
     "metadata": {
      "needs_background": "light"
     },
     "output_type": "display_data"
    }
   ],
   "source": [
    "def plot_df(stock_name):\n",
    "    df = get_df_data(stock_name, normalize=True)\n",
    " \n",
    "    plt.plot(df['良好站日數'], color='red', label='良好站日數')\n",
    "    plt.legend(loc='best')\n",
    "    plt.show()\n",
    "plot_df(stock_name)"
   ]
  },
  {
   "cell_type": "code",
   "execution_count": null,
   "metadata": {},
   "outputs": [],
   "source": []
  },
  {
   "cell_type": "code",
   "execution_count": 96,
   "metadata": {},
   "outputs": [
    {
     "name": "stdout",
     "output_type": "stream",
     "text": [
      "訓練集大小 (641, 1) (641, 1)\n",
      "測試集大小 (72, 1) (72, 1)\n"
     ]
    }
   ],
   "source": [
    "from sklearn.model_selection  import train_test_split\n",
    "exam_X=df[['總站日數','良好站日數','普通站日數']]\n",
    "exam_y=df[['AQI大於100日數比率']]\n",
    "train_X,test_X,train_y,test_y =train_test_split(exam_X,exam_y,train_size=0.9)\n",
    "print('訓練集大小',train_X.shape,train_y.shape)\n",
    "print('測試集大小',test_X.shape,test_y.shape)"
   ]
  },
  {
   "cell_type": "code",
   "execution_count": 97,
   "metadata": {},
   "outputs": [
    {
     "name": "stdout",
     "output_type": "stream",
     "text": [
      "模型得分為 -0.0087\n"
     ]
    }
   ],
   "source": [
    "from sklearn.linear_model import LinearRegression\n",
    "model=LinearRegression()\n",
    "model.fit(train_X,train_y)\n",
    "print('模型得分為',round(model.score(test_X,test_y),4))"
   ]
  },
  {
   "cell_type": "code",
   "execution_count": null,
   "metadata": {},
   "outputs": [],
   "source": []
  },
  {
   "cell_type": "code",
   "execution_count": null,
   "metadata": {},
   "outputs": [],
   "source": []
  },
  {
   "cell_type": "code",
   "execution_count": null,
   "metadata": {},
   "outputs": [],
   "source": []
  },
  {
   "cell_type": "code",
   "execution_count": null,
   "metadata": {},
   "outputs": [],
   "source": []
  },
  {
   "cell_type": "code",
   "execution_count": null,
   "metadata": {},
   "outputs": [],
   "source": []
  },
  {
   "cell_type": "code",
   "execution_count": null,
   "metadata": {},
   "outputs": [],
   "source": []
  },
  {
   "cell_type": "code",
   "execution_count": null,
   "metadata": {},
   "outputs": [],
   "source": []
  },
  {
   "cell_type": "code",
   "execution_count": 122,
   "metadata": {},
   "outputs": [
    {
     "data": {
      "text/html": [
       "<div>\n",
       "<style scoped>\n",
       "    .dataframe tbody tr th:only-of-type {\n",
       "        vertical-align: middle;\n",
       "    }\n",
       "\n",
       "    .dataframe tbody tr th {\n",
       "        vertical-align: top;\n",
       "    }\n",
       "\n",
       "    .dataframe thead th {\n",
       "        text-align: right;\n",
       "    }\n",
       "</style>\n",
       "<table border=\"1\" class=\"dataframe\">\n",
       "  <thead>\n",
       "    <tr style=\"text-align: right;\">\n",
       "      <th></th>\n",
       "      <th>總站日數</th>\n",
       "      <th>良好站日數</th>\n",
       "      <th>普通站日數</th>\n",
       "      <th>對敏感族群不健康站日數</th>\n",
       "      <th>對所有族群不健康站日數</th>\n",
       "      <th>非常不健康站日數</th>\n",
       "      <th>危害站日數</th>\n",
       "      <th>AQI大於100日數比率</th>\n",
       "    </tr>\n",
       "  </thead>\n",
       "  <tbody>\n",
       "    <tr>\n",
       "      <td>總站日數</td>\n",
       "      <td>1.000000</td>\n",
       "      <td>0.881184</td>\n",
       "      <td>0.945910</td>\n",
       "      <td>0.810516</td>\n",
       "      <td>0.724222</td>\n",
       "      <td>0.301002</td>\n",
       "      <td>NaN</td>\n",
       "      <td>0.022110</td>\n",
       "    </tr>\n",
       "    <tr>\n",
       "      <td>良好站日數</td>\n",
       "      <td>0.881184</td>\n",
       "      <td>1.000000</td>\n",
       "      <td>0.694654</td>\n",
       "      <td>0.470062</td>\n",
       "      <td>0.442493</td>\n",
       "      <td>0.162075</td>\n",
       "      <td>NaN</td>\n",
       "      <td>-0.133542</td>\n",
       "    </tr>\n",
       "    <tr>\n",
       "      <td>普通站日數</td>\n",
       "      <td>0.945910</td>\n",
       "      <td>0.694654</td>\n",
       "      <td>1.000000</td>\n",
       "      <td>0.881340</td>\n",
       "      <td>0.744180</td>\n",
       "      <td>0.308292</td>\n",
       "      <td>NaN</td>\n",
       "      <td>0.068634</td>\n",
       "    </tr>\n",
       "    <tr>\n",
       "      <td>對敏感族群不健康站日數</td>\n",
       "      <td>0.810516</td>\n",
       "      <td>0.470062</td>\n",
       "      <td>0.881340</td>\n",
       "      <td>1.000000</td>\n",
       "      <td>0.902358</td>\n",
       "      <td>0.403000</td>\n",
       "      <td>NaN</td>\n",
       "      <td>0.278985</td>\n",
       "    </tr>\n",
       "    <tr>\n",
       "      <td>對所有族群不健康站日數</td>\n",
       "      <td>0.724222</td>\n",
       "      <td>0.442493</td>\n",
       "      <td>0.744180</td>\n",
       "      <td>0.902358</td>\n",
       "      <td>1.000000</td>\n",
       "      <td>0.581549</td>\n",
       "      <td>NaN</td>\n",
       "      <td>0.299344</td>\n",
       "    </tr>\n",
       "    <tr>\n",
       "      <td>非常不健康站日數</td>\n",
       "      <td>0.301002</td>\n",
       "      <td>0.162075</td>\n",
       "      <td>0.308292</td>\n",
       "      <td>0.403000</td>\n",
       "      <td>0.581549</td>\n",
       "      <td>1.000000</td>\n",
       "      <td>NaN</td>\n",
       "      <td>0.136764</td>\n",
       "    </tr>\n",
       "    <tr>\n",
       "      <td>危害站日數</td>\n",
       "      <td>NaN</td>\n",
       "      <td>NaN</td>\n",
       "      <td>NaN</td>\n",
       "      <td>NaN</td>\n",
       "      <td>NaN</td>\n",
       "      <td>NaN</td>\n",
       "      <td>NaN</td>\n",
       "      <td>NaN</td>\n",
       "    </tr>\n",
       "    <tr>\n",
       "      <td>AQI大於100日數比率</td>\n",
       "      <td>0.022110</td>\n",
       "      <td>-0.133542</td>\n",
       "      <td>0.068634</td>\n",
       "      <td>0.278985</td>\n",
       "      <td>0.299344</td>\n",
       "      <td>0.136764</td>\n",
       "      <td>NaN</td>\n",
       "      <td>1.000000</td>\n",
       "    </tr>\n",
       "  </tbody>\n",
       "</table>\n",
       "</div>"
      ],
      "text/plain": [
       "                  總站日數     良好站日數     普通站日數  對敏感族群不健康站日數  對所有族群不健康站日數  \\\n",
       "總站日數          1.000000  0.881184  0.945910     0.810516     0.724222   \n",
       "良好站日數         0.881184  1.000000  0.694654     0.470062     0.442493   \n",
       "普通站日數         0.945910  0.694654  1.000000     0.881340     0.744180   \n",
       "對敏感族群不健康站日數   0.810516  0.470062  0.881340     1.000000     0.902358   \n",
       "對所有族群不健康站日數   0.724222  0.442493  0.744180     0.902358     1.000000   \n",
       "非常不健康站日數      0.301002  0.162075  0.308292     0.403000     0.581549   \n",
       "危害站日數              NaN       NaN       NaN          NaN          NaN   \n",
       "AQI大於100日數比率  0.022110 -0.133542  0.068634     0.278985     0.299344   \n",
       "\n",
       "              非常不健康站日數  危害站日數  AQI大於100日數比率  \n",
       "總站日數          0.301002    NaN      0.022110  \n",
       "良好站日數         0.162075    NaN     -0.133542  \n",
       "普通站日數         0.308292    NaN      0.068634  \n",
       "對敏感族群不健康站日數   0.403000    NaN      0.278985  \n",
       "對所有族群不健康站日數   0.581549    NaN      0.299344  \n",
       "非常不健康站日數      1.000000    NaN      0.136764  \n",
       "危害站日數              NaN    NaN           NaN  \n",
       "AQI大於100日數比率  0.136764    NaN      1.000000  "
      ]
     },
     "execution_count": 122,
     "metadata": {},
     "output_type": "execute_result"
    }
   ],
   "source": [
    "rDf=df.corr()\n",
    "rDf"
   ]
  },
  {
   "cell_type": "code",
   "execution_count": 123,
   "metadata": {},
   "outputs": [
    {
     "data": {
      "text/plain": [
       "(9, 0)"
      ]
     },
     "execution_count": 123,
     "metadata": {},
     "output_type": "execute_result"
    },
    {
     "data": {
      "image/png": "[encoded data removed]",
      "text/plain": [
       "<Figure size 720x720 with 2 Axes>"
      ]
     },
     "metadata": {
      "needs_background": "light"
     },
     "output_type": "display_data"
    }
   ],
   "source": [
    "import matplotlib.pyplot as plt\n",
    "%matplotlib inline\n",
    "plt.rcParams['figure.figsize'] = (10, 10)\n",
    "\n",
    "# original code\n",
    "import seaborn as sns\n",
    "a = sns.heatmap(rDf, square=True ,vmax=1.0, linecolor='white', annot=True)\n",
    "a.set_ylim(9,0)   #Bug處理後的結果"
   ]
  },
  {
   "cell_type": "code",
   "execution_count": null,
   "metadata": {},
   "outputs": [],
   "source": []
  },
  {
   "cell_type": "code",
   "execution_count": null,
   "metadata": {},
   "outputs": [],
   "source": []
  }
 ],
 "metadata": {
  "kernelspec": {
   "display_name": "Python 3",
   "language": "python",
   "name": "python3"
  },
  "language_info": {
   "codemirror_mode": {
    "name": "ipython",
    "version": 3
   },
   "file_extension": ".py",
   "mimetype": "text/x-python",
   "name": "python",
   "nbconvert_exporter": "python",
   "pygments_lexer": "ipython3",
   "version": "3.7.4"
  }
 },
 "nbformat": 4,
 "nbformat_minor": 2
}
